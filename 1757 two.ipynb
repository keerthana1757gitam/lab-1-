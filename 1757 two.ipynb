{
  "metadata": {
    "kernelspec": {
      "name": "python",
      "display_name": "Python (Pyodide)",
      "language": "python"
    },
    "language_info": {
      "codemirror_mode": {
        "name": "python",
        "version": 3
      },
      "file_extension": ".py",
      "mimetype": "text/x-python",
      "name": "python",
      "nbconvert_exporter": "python",
      "pygments_lexer": "ipython3",
      "version": "3.8"
    }
  },
  "nbformat_minor": 5,
  "nbformat": 4,
  "cells": [
    {
      "id": "e101fb22-6aa3-4f8e-8748-723d5504c729",
      "cell_type": "code",
      "source": "def temperature(t, a, b, c):\n    return a * t**2 + b * t + c\n\na = float(input(\"Enter coefficient a: \"))\nb = float(input(\"Enter coefficient b: \"))\nc = float(input(\"Enter coefficient c: \"))\n\nprint(\"Time (h)\\tTemperature (°C)\")\nfor hour in range(0, 25):\n    temp = temperature(hour, a, b, c)\n    print(f\"{hour:02d}:00\\t\\t{temp:.2f}\")\n",
      "metadata": {
        "trusted": true
      },
      "outputs": [
        {
          "output_type": "stream",
          "name": "stdin",
          "text": "Enter coefficient a:  5\nEnter coefficient b:  6\nEnter coefficient c:  7\n"
        },
        {
          "name": "stdout",
          "output_type": "stream",
          "text": "Time (h)\tTemperature (°C)\n00:00\t\t7.00\n01:00\t\t18.00\n02:00\t\t39.00\n03:00\t\t70.00\n04:00\t\t111.00\n05:00\t\t162.00\n06:00\t\t223.00\n07:00\t\t294.00\n08:00\t\t375.00\n09:00\t\t466.00\n10:00\t\t567.00\n11:00\t\t678.00\n12:00\t\t799.00\n13:00\t\t930.00\n14:00\t\t1071.00\n15:00\t\t1222.00\n16:00\t\t1383.00\n17:00\t\t1554.00\n18:00\t\t1735.00\n19:00\t\t1926.00\n20:00\t\t2127.00\n21:00\t\t2338.00\n22:00\t\t2559.00\n23:00\t\t2790.00\n24:00\t\t3031.00\n"
        }
      ],
      "execution_count": 1
    },
    {
      "id": "86cd60b2-cd27-460b-82a5-e08cbb1b0631",
      "cell_type": "code",
      "source": "",
      "metadata": {
        "trusted": true
      },
      "outputs": [],
      "execution_count": null
    }
  ]
}