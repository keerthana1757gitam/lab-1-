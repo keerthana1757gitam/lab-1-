{
  "metadata": {
    "kernelspec": {
      "name": "python",
      "display_name": "Python (Pyodide)",
      "language": "python"
    },
    "language_info": {
      "codemirror_mode": {
        "name": "python",
        "version": 3
      },
      "file_extension": ".py",
      "mimetype": "text/x-python",
      "name": "python",
      "nbconvert_exporter": "python",
      "pygments_lexer": "ipython3",
      "version": "3.8"
    }
  },
  "nbformat_minor": 5,
  "nbformat": 4,
  "cells": [
    {
      "id": "6bd6e0c8-7f16-446c-9181-ed357ca64acf",
      "cell_type": "code",
      "source": "def temperature(t):\n    a = -0.5\n    b = 5\n    c = 15\n    return a * t**2 + b * t + c\n\nprint(\"Time (h)\\tTemperature (°C)\")\nfor hour in range(0, 25):\n    temp = temperature(hour)\n    print(f\"{hour:02d}:00\\t\\t{temp:.2f}\")\n",
      "metadata": {
        "trusted": true
      },
      "outputs": [
        {
          "name": "stdout",
          "output_type": "stream",
          "text": "Time (h)\tTemperature (°C)\n00:00\t\t15.00\n01:00\t\t19.50\n02:00\t\t23.00\n03:00\t\t25.50\n04:00\t\t27.00\n05:00\t\t27.50\n06:00\t\t27.00\n07:00\t\t25.50\n08:00\t\t23.00\n09:00\t\t19.50\n10:00\t\t15.00\n11:00\t\t9.50\n12:00\t\t3.00\n13:00\t\t-4.50\n14:00\t\t-13.00\n15:00\t\t-22.50\n16:00\t\t-33.00\n17:00\t\t-44.50\n18:00\t\t-57.00\n19:00\t\t-70.50\n20:00\t\t-85.00\n21:00\t\t-100.50\n22:00\t\t-117.00\n23:00\t\t-134.50\n24:00\t\t-153.00\n"
        }
      ],
      "execution_count": 1
    },
    {
      "id": "30adb76a-14c9-4ae1-9b8b-e883454a5583",
      "cell_type": "code",
      "source": "",
      "metadata": {
        "trusted": true
      },
      "outputs": [],
      "execution_count": null
    }
  ]
}